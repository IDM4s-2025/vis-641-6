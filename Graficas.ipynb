{
 "cells": [
  {
   "cell_type": "code",
   "execution_count": 1,
   "id": "0abd8196",
   "metadata": {},
   "outputs": [
    {
     "data": {
      "application/vnd.plotly.v1+json": {
       "config": {
        "plotlyServerURL": "https://plot.ly"
       },
       "data": [
        {
         "hovertemplate": "Indicador=Trabajo<br>Country=%{x}<br>Valor Observado=%{y}<extra></extra>",
         "legendgroup": "Trabajo",
         "line": {
          "color": "#636efa",
          "dash": "solid"
         },
         "marker": {
          "symbol": "circle"
         },
         "mode": "lines+markers",
         "name": "Trabajo",
         "orientation": "v",
         "showlegend": true,
         "type": "scatter",
         "x": [
          "Austria",
          "Austria",
          "Austria",
          "Belgium",
          "Belgium",
          "Belgium",
          "Canada",
          "Canada",
          "Canada",
          "Czechia",
          "Czechia",
          "Czechia",
          "Denmark",
          "Denmark",
          "Denmark",
          "Finland",
          "Finland",
          "Finland",
          "France",
          "France",
          "France",
          "Germany",
          "Germany",
          "Germany",
          "Greece",
          "Greece",
          "Greece",
          "Hungary",
          "Hungary",
          "Hungary",
          "Iceland",
          "Iceland",
          "Iceland",
          "Ireland",
          "Ireland",
          "Ireland",
          "Italy",
          "Italy",
          "Italy",
          "Korea",
          "Korea",
          "Korea",
          "Luxembourg",
          "Luxembourg",
          "Luxembourg",
          "Mexico",
          "Mexico",
          "Mexico",
          "Netherlands",
          "Netherlands",
          "Netherlands",
          "New Zealand",
          "New Zealand",
          "New Zealand",
          "Norway",
          "Norway",
          "Norway",
          "Poland",
          "Poland",
          "Poland",
          "Portugal",
          "Portugal",
          "Portugal",
          "Slovak Republic",
          "Slovak Republic",
          "Slovak Republic",
          "Spain",
          "Spain",
          "Spain",
          "Sweden",
          "Sweden",
          "Sweden",
          "Türkiye",
          "Türkiye",
          "Türkiye",
          "United Kingdom",
          "United Kingdom",
          "United Kingdom",
          "United States",
          "United States",
          "United States",
          "Chile",
          "Chile",
          "Chile",
          "Estonia",
          "Estonia",
          "Estonia",
          "Israel",
          "Israel",
          "Israel",
          "Latvia",
          "Latvia",
          "Latvia",
          "Slovenia",
          "Slovenia",
          "Slovenia",
          "OECD - Total",
          "OECD - Total",
          "OECD - Total",
          "Australia",
          "Australia",
          "Australia"
         ],
         "xaxis": "x",
         "y": {
          "bdata": "ZmZmZmZmAkBmZmZmZmYCQGZmZmZmZgJAMzMzMzMzA0AzMzMzMzMDQDMzMzMzMwNAZmZmZmZmDkBmZmZmZmYOQGZmZmZmZg5AZmZmZmZmAkBmZmZmZmYCQGZmZmZmZgJAAAAAAAAAEkAAAAAAAAASQAAAAAAAABJAmpmZmZmZAUCamZmZmZkBQJqZmZmZmQFAzczMzMzMCEDNzMzMzMwIQM3MzMzMzAhAZmZmZmZm9j9mZmZmZmb2P2ZmZmZmZvY/MzMzMzOzNUAzMzMzM7M1QDMzMzMzszVAZmZmZmZmDkBmZmZmZmYOQGZmZmZmZg5AAAAAAAAA8D8AAAAAAADwPwAAAAAAAPA/zczMzMzMBEDNzMzMzMwEQM3MzMzMzARAMzMzMzMzIUAzMzMzMzMhQDMzMzMzMyFAMzMzMzMzB0AzMzMzMzMHQDMzMzMzMwdAmpmZmZmZAUCamZmZmZkBQJqZmZmZmQFAAAAAAAAAEEAAAAAAAAAQQAAAAAAAABBAAAAAAAAABEAAAAAAAAAEQAAAAAAAAARAAAAAAAAAEkAAAAAAAAASQAAAAAAAABJAZmZmZmZmBkBmZmZmZmYGQGZmZmZmZgZAAAAAAAAAFEAAAAAAAAAUQAAAAAAAABRAMzMzMzMzIEAzMzMzMzMgQDMzMzMzMyBAmpmZmZmZIUCamZmZmZkhQJqZmZmZmSFAmpmZmZmZL0CamZmZmZkvQJqZmZmZmS9AmpmZmZmZEUCamZmZmZkRQJqZmZmZmRFAAAAAAAAAKkAAAAAAAAAqQAAAAAAAACpAZmZmZmZmCkBmZmZmZmYKQGZmZmZmZgpAzczMzMzMEEDNzMzMzMwQQM3MzMzMzBBAAAAAAAAAHEAAAAAAAAAcQAAAAAAAABxAmpmZmZmZFUCamZmZmZkVQJqZmZmZmRVAZmZmZmZmEkBmZmZmZmYSQGZmZmZmZhJAMzMzMzMzGUAzMzMzMzMZQDMzMzMzMxlAmpmZmZmZF0CamZmZmZkXQJqZmZmZmRdAZmZmZmZmFEBmZmZmZmYUQGZmZmZmZhRAzczMzMzMCEDNzMzMzMwIQM3MzMzMzAhA",
          "dtype": "f8"
         },
         "yaxis": "y"
        },
        {
         "hovertemplate": "Indicador=Educacion<br>Country=%{x}<br>Valor Observado=%{y}<extra></extra>",
         "legendgroup": "Educacion",
         "line": {
          "color": "#EF553B",
          "dash": "solid"
         },
         "marker": {
          "symbol": "circle"
         },
         "mode": "lines+markers",
         "name": "Educacion",
         "orientation": "v",
         "showlegend": true,
         "type": "scatter",
         "x": [
          "Austria",
          "Austria",
          "Austria",
          "Belgium",
          "Belgium",
          "Belgium",
          "Canada",
          "Canada",
          "Canada",
          "Czechia",
          "Czechia",
          "Czechia",
          "Denmark",
          "Denmark",
          "Denmark",
          "Finland",
          "Finland",
          "Finland",
          "France",
          "France",
          "France",
          "Germany",
          "Germany",
          "Germany",
          "Greece",
          "Greece",
          "Greece",
          "Hungary",
          "Hungary",
          "Hungary",
          "Iceland",
          "Iceland",
          "Iceland",
          "Ireland",
          "Ireland",
          "Ireland",
          "Italy",
          "Italy",
          "Italy",
          "Korea",
          "Korea",
          "Korea",
          "Luxembourg",
          "Luxembourg",
          "Luxembourg",
          "Mexico",
          "Mexico",
          "Mexico",
          "Netherlands",
          "Netherlands",
          "Netherlands",
          "New Zealand",
          "New Zealand",
          "New Zealand",
          "Norway",
          "Norway",
          "Norway",
          "Poland",
          "Poland",
          "Poland",
          "Portugal",
          "Portugal",
          "Portugal",
          "Slovak Republic",
          "Slovak Republic",
          "Slovak Republic",
          "Spain",
          "Spain",
          "Spain",
          "Sweden",
          "Sweden",
          "Sweden",
          "Türkiye",
          "Türkiye",
          "Türkiye",
          "United Kingdom",
          "United Kingdom",
          "United Kingdom",
          "United States",
          "United States",
          "United States",
          "Chile",
          "Chile",
          "Chile",
          "Estonia",
          "Estonia",
          "Estonia",
          "Israel",
          "Israel",
          "Israel",
          "Latvia",
          "Latvia",
          "Latvia",
          "Slovenia",
          "Slovenia",
          "Slovenia",
          "OECD - Total",
          "OECD - Total",
          "OECD - Total",
          "Australia",
          "Australia",
          "Australia"
         ],
         "xaxis": "x",
         "y": {
          "bdata": "AAAAAACAVUAAAAAAAABWQAAAAAAAwFRAAAAAAAAAVEAAAAAAAIBTQAAAAAAAQFRAAAAAAAAAV0AAAAAAAMBWQAAAAAAAgFdAAAAAAACAV0AAAAAAAMBXQAAAAAAAQFdAAAAAAACAVEAAAAAAAABUQAAAAAAAwFRAAAAAAADAVkAAAAAAAEBWQAAAAAAAgFdAAAAAAABAVEAAAAAAAEBUQAAAAAAAgFRAAAAAAACAVUAAAAAAAMBVQAAAAAAAgFVAAAAAAAAAU0AAAAAAAMBSQAAAAAAAgFNAAAAAAACAVUAAAAAAAMBVQAAAAAAAAFVAAAAAAAAAU0AAAAAAAIBSQAAAAAAAgFNAAAAAAABAVUAAAAAAAMBUQAAAAAAAAFZAAAAAAACAT0AAAAAAAIBOQAAAAAAAQFBAAAAAAABAVkAAAAAAAABXQAAAAAAAwFVAAAAAAACAUkAAAAAAAIBSQAAAAAAAgFJAAAAAAAAARUAAAAAAAABFQAAAAAAAgERAAAAAAABAVEAAAAAAAEBUQAAAAAAAQFRAAAAAAABAVEAAAAAAAABUQAAAAAAAgFRAAAAAAACAVEAAAAAAAIBUQAAAAAAAwFRAAAAAAABAV0AAAAAAAEBXQAAAAAAAgFdAAAAAAACAS0AAAAAAAABKQAAAAAAAgE1AAAAAAAAAV0AAAAAAAEBXQAAAAAAAAFdAAAAAAACAT0AAAAAAAABOQAAAAAAAgFBAAAAAAAAAVUAAAAAAAMBUQAAAAAAAQFVAAAAAAAAARUAAAAAAAIBGQAAAAAAAAENAAAAAAACAVEAAAAAAAEBUQAAAAAAAwFRAAAAAAAAAV0AAAAAAAMBWQAAAAAAAAFdAAAAAAADAUEAAAAAAAMBQQAAAAAAAAFFAAAAAAADAVkAAAAAAAMBVQAAAAAAAgFdAAAAAAAAAVkAAAAAAAMBVQAAAAAAAQFZAAAAAAABAVkAAAAAAAIBVQAAAAAAAQFdAAAAAAACAVkAAAAAAAEBWQAAAAAAAwFZAAAAAAADAU0AAAAAAAIBTQAAAAAAAAFRAAAAAAAAAVUAAAAAAAABVQAAAAAAAAFVA",
          "dtype": "f8"
         },
         "yaxis": "y"
        }
       ],
       "layout": {
        "legend": {
         "title": {
          "text": "Indicador"
         },
         "tracegroupgap": 0
        },
        "template": {
         "data": {
          "bar": [
           {
            "error_x": {
             "color": "#2a3f5f"
            },
            "error_y": {
             "color": "#2a3f5f"
            },
            "marker": {
             "line": {
              "color": "#E5ECF6",
              "width": 0.5
             },
             "pattern": {
              "fillmode": "overlay",
              "size": 10,
              "solidity": 0.2
             }
            },
            "type": "bar"
           }
          ],
          "barpolar": [
           {
            "marker": {
             "line": {
              "color": "#E5ECF6",
              "width": 0.5
             },
             "pattern": {
              "fillmode": "overlay",
              "size": 10,
              "solidity": 0.2
             }
            },
            "type": "barpolar"
           }
          ],
          "carpet": [
           {
            "aaxis": {
             "endlinecolor": "#2a3f5f",
             "gridcolor": "white",
             "linecolor": "white",
             "minorgridcolor": "white",
             "startlinecolor": "#2a3f5f"
            },
            "baxis": {
             "endlinecolor": "#2a3f5f",
             "gridcolor": "white",
             "linecolor": "white",
             "minorgridcolor": "white",
             "startlinecolor": "#2a3f5f"
            },
            "type": "carpet"
           }
          ],
          "choropleth": [
           {
            "colorbar": {
             "outlinewidth": 0,
             "ticks": ""
            },
            "type": "choropleth"
           }
          ],
          "contour": [
           {
            "colorbar": {
             "outlinewidth": 0,
             "ticks": ""
            },
            "colorscale": [
             [
              0,
              "#0d0887"
             ],
             [
              0.1111111111111111,
              "#46039f"
             ],
             [
              0.2222222222222222,
              "#7201a8"
             ],
             [
              0.3333333333333333,
              "#9c179e"
             ],
             [
              0.4444444444444444,
              "#bd3786"
             ],
             [
              0.5555555555555556,
              "#d8576b"
             ],
             [
              0.6666666666666666,
              "#ed7953"
             ],
             [
              0.7777777777777778,
              "#fb9f3a"
             ],
             [
              0.8888888888888888,
              "#fdca26"
             ],
             [
              1,
              "#f0f921"
             ]
            ],
            "type": "contour"
           }
          ],
          "contourcarpet": [
           {
            "colorbar": {
             "outlinewidth": 0,
             "ticks": ""
            },
            "type": "contourcarpet"
           }
          ],
          "heatmap": [
           {
            "colorbar": {
             "outlinewidth": 0,
             "ticks": ""
            },
            "colorscale": [
             [
              0,
              "#0d0887"
             ],
             [
              0.1111111111111111,
              "#46039f"
             ],
             [
              0.2222222222222222,
              "#7201a8"
             ],
             [
              0.3333333333333333,
              "#9c179e"
             ],
             [
              0.4444444444444444,
              "#bd3786"
             ],
             [
              0.5555555555555556,
              "#d8576b"
             ],
             [
              0.6666666666666666,
              "#ed7953"
             ],
             [
              0.7777777777777778,
              "#fb9f3a"
             ],
             [
              0.8888888888888888,
              "#fdca26"
             ],
             [
              1,
              "#f0f921"
             ]
            ],
            "type": "heatmap"
           }
          ],
          "histogram": [
           {
            "marker": {
             "pattern": {
              "fillmode": "overlay",
              "size": 10,
              "solidity": 0.2
             }
            },
            "type": "histogram"
           }
          ],
          "histogram2d": [
           {
            "colorbar": {
             "outlinewidth": 0,
             "ticks": ""
            },
            "colorscale": [
             [
              0,
              "#0d0887"
             ],
             [
              0.1111111111111111,
              "#46039f"
             ],
             [
              0.2222222222222222,
              "#7201a8"
             ],
             [
              0.3333333333333333,
              "#9c179e"
             ],
             [
              0.4444444444444444,
              "#bd3786"
             ],
             [
              0.5555555555555556,
              "#d8576b"
             ],
             [
              0.6666666666666666,
              "#ed7953"
             ],
             [
              0.7777777777777778,
              "#fb9f3a"
             ],
             [
              0.8888888888888888,
              "#fdca26"
             ],
             [
              1,
              "#f0f921"
             ]
            ],
            "type": "histogram2d"
           }
          ],
          "histogram2dcontour": [
           {
            "colorbar": {
             "outlinewidth": 0,
             "ticks": ""
            },
            "colorscale": [
             [
              0,
              "#0d0887"
             ],
             [
              0.1111111111111111,
              "#46039f"
             ],
             [
              0.2222222222222222,
              "#7201a8"
             ],
             [
              0.3333333333333333,
              "#9c179e"
             ],
             [
              0.4444444444444444,
              "#bd3786"
             ],
             [
              0.5555555555555556,
              "#d8576b"
             ],
             [
              0.6666666666666666,
              "#ed7953"
             ],
             [
              0.7777777777777778,
              "#fb9f3a"
             ],
             [
              0.8888888888888888,
              "#fdca26"
             ],
             [
              1,
              "#f0f921"
             ]
            ],
            "type": "histogram2dcontour"
           }
          ],
          "mesh3d": [
           {
            "colorbar": {
             "outlinewidth": 0,
             "ticks": ""
            },
            "type": "mesh3d"
           }
          ],
          "parcoords": [
           {
            "line": {
             "colorbar": {
              "outlinewidth": 0,
              "ticks": ""
             }
            },
            "type": "parcoords"
           }
          ],
          "pie": [
           {
            "automargin": true,
            "type": "pie"
           }
          ],
          "scatter": [
           {
            "fillpattern": {
             "fillmode": "overlay",
             "size": 10,
             "solidity": 0.2
            },
            "type": "scatter"
           }
          ],
          "scatter3d": [
           {
            "line": {
             "colorbar": {
              "outlinewidth": 0,
              "ticks": ""
             }
            },
            "marker": {
             "colorbar": {
              "outlinewidth": 0,
              "ticks": ""
             }
            },
            "type": "scatter3d"
           }
          ],
          "scattercarpet": [
           {
            "marker": {
             "colorbar": {
              "outlinewidth": 0,
              "ticks": ""
             }
            },
            "type": "scattercarpet"
           }
          ],
          "scattergeo": [
           {
            "marker": {
             "colorbar": {
              "outlinewidth": 0,
              "ticks": ""
             }
            },
            "type": "scattergeo"
           }
          ],
          "scattergl": [
           {
            "marker": {
             "colorbar": {
              "outlinewidth": 0,
              "ticks": ""
             }
            },
            "type": "scattergl"
           }
          ],
          "scattermap": [
           {
            "marker": {
             "colorbar": {
              "outlinewidth": 0,
              "ticks": ""
             }
            },
            "type": "scattermap"
           }
          ],
          "scattermapbox": [
           {
            "marker": {
             "colorbar": {
              "outlinewidth": 0,
              "ticks": ""
             }
            },
            "type": "scattermapbox"
           }
          ],
          "scatterpolar": [
           {
            "marker": {
             "colorbar": {
              "outlinewidth": 0,
              "ticks": ""
             }
            },
            "type": "scatterpolar"
           }
          ],
          "scatterpolargl": [
           {
            "marker": {
             "colorbar": {
              "outlinewidth": 0,
              "ticks": ""
             }
            },
            "type": "scatterpolargl"
           }
          ],
          "scatterternary": [
           {
            "marker": {
             "colorbar": {
              "outlinewidth": 0,
              "ticks": ""
             }
            },
            "type": "scatterternary"
           }
          ],
          "surface": [
           {
            "colorbar": {
             "outlinewidth": 0,
             "ticks": ""
            },
            "colorscale": [
             [
              0,
              "#0d0887"
             ],
             [
              0.1111111111111111,
              "#46039f"
             ],
             [
              0.2222222222222222,
              "#7201a8"
             ],
             [
              0.3333333333333333,
              "#9c179e"
             ],
             [
              0.4444444444444444,
              "#bd3786"
             ],
             [
              0.5555555555555556,
              "#d8576b"
             ],
             [
              0.6666666666666666,
              "#ed7953"
             ],
             [
              0.7777777777777778,
              "#fb9f3a"
             ],
             [
              0.8888888888888888,
              "#fdca26"
             ],
             [
              1,
              "#f0f921"
             ]
            ],
            "type": "surface"
           }
          ],
          "table": [
           {
            "cells": {
             "fill": {
              "color": "#EBF0F8"
             },
             "line": {
              "color": "white"
             }
            },
            "header": {
             "fill": {
              "color": "#C8D4E3"
             },
             "line": {
              "color": "white"
             }
            },
            "type": "table"
           }
          ]
         },
         "layout": {
          "annotationdefaults": {
           "arrowcolor": "#2a3f5f",
           "arrowhead": 0,
           "arrowwidth": 1
          },
          "autotypenumbers": "strict",
          "coloraxis": {
           "colorbar": {
            "outlinewidth": 0,
            "ticks": ""
           }
          },
          "colorscale": {
           "diverging": [
            [
             0,
             "#8e0152"
            ],
            [
             0.1,
             "#c51b7d"
            ],
            [
             0.2,
             "#de77ae"
            ],
            [
             0.3,
             "#f1b6da"
            ],
            [
             0.4,
             "#fde0ef"
            ],
            [
             0.5,
             "#f7f7f7"
            ],
            [
             0.6,
             "#e6f5d0"
            ],
            [
             0.7,
             "#b8e186"
            ],
            [
             0.8,
             "#7fbc41"
            ],
            [
             0.9,
             "#4d9221"
            ],
            [
             1,
             "#276419"
            ]
           ],
           "sequential": [
            [
             0,
             "#0d0887"
            ],
            [
             0.1111111111111111,
             "#46039f"
            ],
            [
             0.2222222222222222,
             "#7201a8"
            ],
            [
             0.3333333333333333,
             "#9c179e"
            ],
            [
             0.4444444444444444,
             "#bd3786"
            ],
            [
             0.5555555555555556,
             "#d8576b"
            ],
            [
             0.6666666666666666,
             "#ed7953"
            ],
            [
             0.7777777777777778,
             "#fb9f3a"
            ],
            [
             0.8888888888888888,
             "#fdca26"
            ],
            [
             1,
             "#f0f921"
            ]
           ],
           "sequentialminus": [
            [
             0,
             "#0d0887"
            ],
            [
             0.1111111111111111,
             "#46039f"
            ],
            [
             0.2222222222222222,
             "#7201a8"
            ],
            [
             0.3333333333333333,
             "#9c179e"
            ],
            [
             0.4444444444444444,
             "#bd3786"
            ],
            [
             0.5555555555555556,
             "#d8576b"
            ],
            [
             0.6666666666666666,
             "#ed7953"
            ],
            [
             0.7777777777777778,
             "#fb9f3a"
            ],
            [
             0.8888888888888888,
             "#fdca26"
            ],
            [
             1,
             "#f0f921"
            ]
           ]
          },
          "colorway": [
           "#636efa",
           "#EF553B",
           "#00cc96",
           "#ab63fa",
           "#FFA15A",
           "#19d3f3",
           "#FF6692",
           "#B6E880",
           "#FF97FF",
           "#FECB52"
          ],
          "font": {
           "color": "#2a3f5f"
          },
          "geo": {
           "bgcolor": "white",
           "lakecolor": "white",
           "landcolor": "#E5ECF6",
           "showlakes": true,
           "showland": true,
           "subunitcolor": "white"
          },
          "hoverlabel": {
           "align": "left"
          },
          "hovermode": "closest",
          "mapbox": {
           "style": "light"
          },
          "paper_bgcolor": "white",
          "plot_bgcolor": "#E5ECF6",
          "polar": {
           "angularaxis": {
            "gridcolor": "white",
            "linecolor": "white",
            "ticks": ""
           },
           "bgcolor": "#E5ECF6",
           "radialaxis": {
            "gridcolor": "white",
            "linecolor": "white",
            "ticks": ""
           }
          },
          "scene": {
           "xaxis": {
            "backgroundcolor": "#E5ECF6",
            "gridcolor": "white",
            "gridwidth": 2,
            "linecolor": "white",
            "showbackground": true,
            "ticks": "",
            "zerolinecolor": "white"
           },
           "yaxis": {
            "backgroundcolor": "#E5ECF6",
            "gridcolor": "white",
            "gridwidth": 2,
            "linecolor": "white",
            "showbackground": true,
            "ticks": "",
            "zerolinecolor": "white"
           },
           "zaxis": {
            "backgroundcolor": "#E5ECF6",
            "gridcolor": "white",
            "gridwidth": 2,
            "linecolor": "white",
            "showbackground": true,
            "ticks": "",
            "zerolinecolor": "white"
           }
          },
          "shapedefaults": {
           "line": {
            "color": "#2a3f5f"
           }
          },
          "ternary": {
           "aaxis": {
            "gridcolor": "white",
            "linecolor": "white",
            "ticks": ""
           },
           "baxis": {
            "gridcolor": "white",
            "linecolor": "white",
            "ticks": ""
           },
           "bgcolor": "#E5ECF6",
           "caxis": {
            "gridcolor": "white",
            "linecolor": "white",
            "ticks": ""
           }
          },
          "title": {
           "x": 0.05
          },
          "xaxis": {
           "automargin": true,
           "gridcolor": "white",
           "linecolor": "white",
           "ticks": "",
           "title": {
            "standoff": 15
           },
           "zerolinecolor": "white",
           "zerolinewidth": 2
          },
          "yaxis": {
           "automargin": true,
           "gridcolor": "white",
           "linecolor": "white",
           "ticks": "",
           "title": {
            "standoff": 15
           },
           "zerolinecolor": "white",
           "zerolinewidth": 2
          }
         }
        },
        "title": {
         "text": "Comparación de Indicadores por País: Trabajo vs Educación (sin income)"
        },
        "xaxis": {
         "anchor": "y",
         "domain": [
          0,
          1
         ],
         "tickangle": -45,
         "title": {
          "text": "País"
         }
        },
        "yaxis": {
         "anchor": "x",
         "domain": [
          0,
          1
         ],
         "title": {
          "text": "Valor Observado"
         }
        }
       }
      }
     },
     "metadata": {},
     "output_type": "display_data"
    }
   ],
   "source": [
    "import pandas as pd\n",
    "import plotly.express as px\n",
    "\n",
    "# Cargar archivos\n",
    "trabajo_df = pd.read_csv(\"Trabajo.csv\")\n",
    "educacion_df = pd.read_csv(\"Educacion.csv\")\n",
    "\n",
    "# Filtrar los indicadores específicos y excluir income si estuviera\n",
    "trabajo_df = trabajo_df[trabajo_df[\"Indicator\"] == \"Labour market insecurity\"]\n",
    "educacion_df = educacion_df[educacion_df[\"Indicator\"] == \"Educational attainment\"]\n",
    "\n",
    "# Seleccionar columnas necesarias\n",
    "trabajo_data = trabajo_df[[\"Country\", \"OBS_VALUE\"]].rename(columns={\"OBS_VALUE\": \"Trabajo\"})\n",
    "educacion_data = educacion_df[[\"Country\", \"OBS_VALUE\"]].rename(columns={\"OBS_VALUE\": \"Educacion\"})\n",
    "\n",
    "# Unir por país\n",
    "merged_df = pd.merge(trabajo_data, educacion_data, on=\"Country\", how=\"inner\")\n",
    "\n",
    "# Transformar a formato largo\n",
    "long_df = merged_df.melt(id_vars=\"Country\", \n",
    "                         value_vars=[\"Trabajo\", \"Educacion\"],\n",
    "                         var_name=\"Indicador\", \n",
    "                         value_name=\"Valor Observado\")\n",
    "\n",
    "# Crear gráfico de líneas con Plotly\n",
    "fig = px.line(long_df,\n",
    "              x=\"Country\",\n",
    "              y=\"Valor Observado\",\n",
    "              color=\"Indicador\",\n",
    "              markers=True,\n",
    "              title=\"Comparación de Indicadores por País: Trabajo vs Educación (sin income)\")\n",
    "\n",
    "fig.update_layout(\n",
    "    xaxis_title=\"País\",\n",
    "    yaxis_title=\"Valor Observado\",\n",
    "    xaxis_tickangle=-45,\n",
    "    legend_title=\"Indicador\"\n",
    ")\n",
    "\n",
    "fig.show()"
   ]
  },
  {
   "cell_type": "code",
   "execution_count": 6,
   "id": "0d08e7d3",
   "metadata": {},
   "outputs": [
    {
     "data": {
      "application/vnd.plotly.v1+json": {
       "config": {
        "plotlyServerURL": "https://plot.ly"
       },
       "data": [
        {
         "hovertemplate": "Indicador=Ingreso Normalizado<br>Country=%{x}<br>Valor Observado=%{y}<extra></extra>",
         "legendgroup": "Ingreso Normalizado",
         "line": {
          "color": "#636efa",
          "dash": "solid"
         },
         "marker": {
          "symbol": "circle"
         },
         "mode": "lines+markers",
         "name": "Ingreso Normalizado",
         "orientation": "v",
         "showlegend": true,
         "type": "scatter",
         "x": [
          "Australia",
          "Australia",
          "Australia",
          "Austria",
          "Austria",
          "Austria",
          "Belgium",
          "Belgium",
          "Belgium",
          "Canada",
          "Canada",
          "Canada",
          "Denmark",
          "Denmark",
          "Denmark",
          "Finland",
          "Finland",
          "Finland",
          "France",
          "France",
          "France",
          "Germany",
          "Germany",
          "Germany",
          "Greece",
          "Greece",
          "Greece",
          "Hungary",
          "Hungary",
          "Hungary",
          "Iceland",
          "Iceland",
          "Iceland",
          "Ireland",
          "Ireland",
          "Ireland",
          "Italy",
          "Italy",
          "Italy",
          "Korea",
          "Korea",
          "Korea",
          "Luxembourg",
          "Luxembourg",
          "Luxembourg",
          "Mexico",
          "Mexico",
          "Mexico",
          "Netherlands",
          "Netherlands",
          "Netherlands",
          "New Zealand",
          "New Zealand",
          "New Zealand",
          "Norway",
          "Norway",
          "Norway",
          "Poland",
          "Poland",
          "Poland",
          "Portugal",
          "Portugal",
          "Portugal",
          "Slovak Republic",
          "Slovak Republic",
          "Slovak Republic",
          "Spain",
          "Spain",
          "Spain",
          "Sweden",
          "Sweden",
          "Sweden",
          "Switzerland",
          "Switzerland",
          "Switzerland",
          "United Kingdom",
          "United Kingdom",
          "United Kingdom",
          "United States",
          "United States",
          "United States",
          "Chile",
          "Chile",
          "Chile",
          "Estonia",
          "Estonia",
          "Estonia",
          "Israel",
          "Israel",
          "Israel",
          "Latvia",
          "Latvia",
          "Latvia",
          "Slovenia",
          "Slovenia",
          "Slovenia",
          "OECD - Total",
          "OECD - Total",
          "OECD - Total",
          "Czechia",
          "Czechia",
          "Czechia",
          "Lithuania",
          "Lithuania",
          "Lithuania"
         ],
         "xaxis": "x",
         "y": {
          "bdata": "QNx/lDFUUkBA3H+UMVRSQEDcf5QxVFJAxsUl9oJaUUDGxSX2glpRQMbFJfaCWlFAoAF7rF/qUUCgAXusX+pRQKABe6xf6lFAXasD95BkUkBdqwP3kGRSQF2rA/eQZFJADgo8DlLYU0AOCjwOUthTQA4KPA5S2FNAie0IXTQ3TECJ7QhdNDdMQIntCF00N0xA03QmS/GaS0DTdCZL8ZpLQNN0JkvxmktATkshA0+kUUBOSyEDT6RRQE5LIQNPpFFAKLP+6vClNEAos/7q8KU0QCiz/urwpTRAg+paoB5EMUCD6lqgHkQxQIPqWqAeRDFAaqzKnMgaWEBqrMqcyBpYQGqsypzIGlhAEIYgE0ZET0AQhiATRkRPQBCGIBNGRE9AJ4OWJAVCREAng5YkBUJEQCeDliQFQkRACaA7DRozSEAJoDsNGjNIQAmgOw0aM0hAAjRIWxJWV0ACNEhbElZXQAI0SFsSVldAAAAAAAAAAAAAAAAAAAAAAAAAAAAAAAAAKqgfBTwIVEAqqB8FPAhUQCqoHwU8CFRAib7YO9JPS0CJvtg70k9LQIm+2DvST0tAZIaGsEuZUkBkhoawS5lSQGSGhrBLmVJATUrpXcWnPkBNSuldxac+QE1K6V3Fpz5AUNOf+T3pNkBQ05/5Pek2QFDTn/k96TZANqUGFk3MK0A2pQYWTcwrQDalBhZNzCtAKBU/wttmREAoFT/C22ZEQCgVP8LbZkRAtdOaZGr1TEC105pkavVMQLXTmmRq9UxAbtPDxxLaVkBu08PHEtpWQG7Tw8cS2lZAhZana/4TTUCFlqdr/hNNQIWWp2v+E01AAAAAAAAAWUAAAAAAAABZQAAAAAAAAFlAYlN2+sK/M0BiU3b6wr8zQGJTdvrCvzNA18pPl51BO0DXyk+XnUE7QNfKT5edQTtAQr3J+fC3RUBCvcn58LdFQEK9yfnwt0VAjrVpoDCrOUCOtWmgMKs5QI61aaAwqzlAdT+3eRq3R0B1P7d5GrdHQHU/t3kat0dA6hjR7d/5TkDqGNHt3/lOQOoY0e3f+U5AYWxfHIavOUBhbF8chq85QGFsXxyGrzlAvUDGu/tOPUC9QMa7+049QL1Axrv7Tj1A",
          "dtype": "f8"
         },
         "yaxis": "y"
        },
        {
         "hovertemplate": "Indicador=Educación<br>Country=%{x}<br>Valor Observado=%{y}<extra></extra>",
         "legendgroup": "Educación",
         "line": {
          "color": "#EF553B",
          "dash": "solid"
         },
         "marker": {
          "symbol": "circle"
         },
         "mode": "lines+markers",
         "name": "Educación",
         "orientation": "v",
         "showlegend": true,
         "type": "scatter",
         "x": [
          "Australia",
          "Australia",
          "Australia",
          "Austria",
          "Austria",
          "Austria",
          "Belgium",
          "Belgium",
          "Belgium",
          "Canada",
          "Canada",
          "Canada",
          "Denmark",
          "Denmark",
          "Denmark",
          "Finland",
          "Finland",
          "Finland",
          "France",
          "France",
          "France",
          "Germany",
          "Germany",
          "Germany",
          "Greece",
          "Greece",
          "Greece",
          "Hungary",
          "Hungary",
          "Hungary",
          "Iceland",
          "Iceland",
          "Iceland",
          "Ireland",
          "Ireland",
          "Ireland",
          "Italy",
          "Italy",
          "Italy",
          "Korea",
          "Korea",
          "Korea",
          "Luxembourg",
          "Luxembourg",
          "Luxembourg",
          "Mexico",
          "Mexico",
          "Mexico",
          "Netherlands",
          "Netherlands",
          "Netherlands",
          "New Zealand",
          "New Zealand",
          "New Zealand",
          "Norway",
          "Norway",
          "Norway",
          "Poland",
          "Poland",
          "Poland",
          "Portugal",
          "Portugal",
          "Portugal",
          "Slovak Republic",
          "Slovak Republic",
          "Slovak Republic",
          "Spain",
          "Spain",
          "Spain",
          "Sweden",
          "Sweden",
          "Sweden",
          "Switzerland",
          "Switzerland",
          "Switzerland",
          "United Kingdom",
          "United Kingdom",
          "United Kingdom",
          "United States",
          "United States",
          "United States",
          "Chile",
          "Chile",
          "Chile",
          "Estonia",
          "Estonia",
          "Estonia",
          "Israel",
          "Israel",
          "Israel",
          "Latvia",
          "Latvia",
          "Latvia",
          "Slovenia",
          "Slovenia",
          "Slovenia",
          "OECD - Total",
          "OECD - Total",
          "OECD - Total",
          "Czechia",
          "Czechia",
          "Czechia",
          "Lithuania",
          "Lithuania",
          "Lithuania"
         ],
         "xaxis": "x",
         "y": {
          "bdata": "AAAAAAAAVUAAAAAAAABVQAAAAAAAAFVAAAAAAACAVUAAAAAAAABWQAAAAAAAwFRAAAAAAAAAVEAAAAAAAIBTQAAAAAAAQFRAAAAAAAAAV0AAAAAAAMBWQAAAAAAAgFdAAAAAAACAVEAAAAAAAABUQAAAAAAAwFRAAAAAAADAVkAAAAAAAEBWQAAAAAAAgFdAAAAAAABAVEAAAAAAAEBUQAAAAAAAgFRAAAAAAACAVUAAAAAAAMBVQAAAAAAAgFVAAAAAAAAAU0AAAAAAAMBSQAAAAAAAgFNAAAAAAACAVUAAAAAAAMBVQAAAAAAAAFVAAAAAAAAAU0AAAAAAAIBSQAAAAAAAgFNAAAAAAABAVUAAAAAAAMBUQAAAAAAAAFZAAAAAAACAT0AAAAAAAIBOQAAAAAAAQFBAAAAAAABAVkAAAAAAAABXQAAAAAAAwFVAAAAAAACAUkAAAAAAAIBSQAAAAAAAgFJAAAAAAAAARUAAAAAAAABFQAAAAAAAgERAAAAAAABAVEAAAAAAAEBUQAAAAAAAQFRAAAAAAABAVEAAAAAAAABUQAAAAAAAgFRAAAAAAACAVEAAAAAAAIBUQAAAAAAAwFRAAAAAAABAV0AAAAAAAEBXQAAAAAAAgFdAAAAAAACAS0AAAAAAAABKQAAAAAAAgE1AAAAAAAAAV0AAAAAAAEBXQAAAAAAAAFdAAAAAAACAT0AAAAAAAABOQAAAAAAAgFBAAAAAAAAAVUAAAAAAAMBUQAAAAAAAQFVAAAAAAABAVkAAAAAAAIBWQAAAAAAAAFZAAAAAAACAVEAAAAAAAEBUQAAAAAAAwFRAAAAAAAAAV0AAAAAAAMBWQAAAAAAAAFdAAAAAAADAUEAAAAAAAMBQQAAAAAAAAFFAAAAAAADAVkAAAAAAAMBVQAAAAAAAgFdAAAAAAAAAVkAAAAAAAMBVQAAAAAAAQFZAAAAAAABAVkAAAAAAAIBVQAAAAAAAQFdAAAAAAACAVkAAAAAAAEBWQAAAAAAAwFZAAAAAAADAU0AAAAAAAIBTQAAAAAAAAFRAAAAAAACAV0AAAAAAAMBXQAAAAAAAQFdAAAAAAACAV0AAAAAAAMBWQAAAAAAAAFhA",
          "dtype": "f8"
         },
         "yaxis": "y"
        }
       ],
       "layout": {
        "legend": {
         "title": {
          "text": "Indicador"
         },
         "tracegroupgap": 0
        },
        "template": {
         "data": {
          "bar": [
           {
            "error_x": {
             "color": "#2a3f5f"
            },
            "error_y": {
             "color": "#2a3f5f"
            },
            "marker": {
             "line": {
              "color": "#E5ECF6",
              "width": 0.5
             },
             "pattern": {
              "fillmode": "overlay",
              "size": 10,
              "solidity": 0.2
             }
            },
            "type": "bar"
           }
          ],
          "barpolar": [
           {
            "marker": {
             "line": {
              "color": "#E5ECF6",
              "width": 0.5
             },
             "pattern": {
              "fillmode": "overlay",
              "size": 10,
              "solidity": 0.2
             }
            },
            "type": "barpolar"
           }
          ],
          "carpet": [
           {
            "aaxis": {
             "endlinecolor": "#2a3f5f",
             "gridcolor": "white",
             "linecolor": "white",
             "minorgridcolor": "white",
             "startlinecolor": "#2a3f5f"
            },
            "baxis": {
             "endlinecolor": "#2a3f5f",
             "gridcolor": "white",
             "linecolor": "white",
             "minorgridcolor": "white",
             "startlinecolor": "#2a3f5f"
            },
            "type": "carpet"
           }
          ],
          "choropleth": [
           {
            "colorbar": {
             "outlinewidth": 0,
             "ticks": ""
            },
            "type": "choropleth"
           }
          ],
          "contour": [
           {
            "colorbar": {
             "outlinewidth": 0,
             "ticks": ""
            },
            "colorscale": [
             [
              0,
              "#0d0887"
             ],
             [
              0.1111111111111111,
              "#46039f"
             ],
             [
              0.2222222222222222,
              "#7201a8"
             ],
             [
              0.3333333333333333,
              "#9c179e"
             ],
             [
              0.4444444444444444,
              "#bd3786"
             ],
             [
              0.5555555555555556,
              "#d8576b"
             ],
             [
              0.6666666666666666,
              "#ed7953"
             ],
             [
              0.7777777777777778,
              "#fb9f3a"
             ],
             [
              0.8888888888888888,
              "#fdca26"
             ],
             [
              1,
              "#f0f921"
             ]
            ],
            "type": "contour"
           }
          ],
          "contourcarpet": [
           {
            "colorbar": {
             "outlinewidth": 0,
             "ticks": ""
            },
            "type": "contourcarpet"
           }
          ],
          "heatmap": [
           {
            "colorbar": {
             "outlinewidth": 0,
             "ticks": ""
            },
            "colorscale": [
             [
              0,
              "#0d0887"
             ],
             [
              0.1111111111111111,
              "#46039f"
             ],
             [
              0.2222222222222222,
              "#7201a8"
             ],
             [
              0.3333333333333333,
              "#9c179e"
             ],
             [
              0.4444444444444444,
              "#bd3786"
             ],
             [
              0.5555555555555556,
              "#d8576b"
             ],
             [
              0.6666666666666666,
              "#ed7953"
             ],
             [
              0.7777777777777778,
              "#fb9f3a"
             ],
             [
              0.8888888888888888,
              "#fdca26"
             ],
             [
              1,
              "#f0f921"
             ]
            ],
            "type": "heatmap"
           }
          ],
          "histogram": [
           {
            "marker": {
             "pattern": {
              "fillmode": "overlay",
              "size": 10,
              "solidity": 0.2
             }
            },
            "type": "histogram"
           }
          ],
          "histogram2d": [
           {
            "colorbar": {
             "outlinewidth": 0,
             "ticks": ""
            },
            "colorscale": [
             [
              0,
              "#0d0887"
             ],
             [
              0.1111111111111111,
              "#46039f"
             ],
             [
              0.2222222222222222,
              "#7201a8"
             ],
             [
              0.3333333333333333,
              "#9c179e"
             ],
             [
              0.4444444444444444,
              "#bd3786"
             ],
             [
              0.5555555555555556,
              "#d8576b"
             ],
             [
              0.6666666666666666,
              "#ed7953"
             ],
             [
              0.7777777777777778,
              "#fb9f3a"
             ],
             [
              0.8888888888888888,
              "#fdca26"
             ],
             [
              1,
              "#f0f921"
             ]
            ],
            "type": "histogram2d"
           }
          ],
          "histogram2dcontour": [
           {
            "colorbar": {
             "outlinewidth": 0,
             "ticks": ""
            },
            "colorscale": [
             [
              0,
              "#0d0887"
             ],
             [
              0.1111111111111111,
              "#46039f"
             ],
             [
              0.2222222222222222,
              "#7201a8"
             ],
             [
              0.3333333333333333,
              "#9c179e"
             ],
             [
              0.4444444444444444,
              "#bd3786"
             ],
             [
              0.5555555555555556,
              "#d8576b"
             ],
             [
              0.6666666666666666,
              "#ed7953"
             ],
             [
              0.7777777777777778,
              "#fb9f3a"
             ],
             [
              0.8888888888888888,
              "#fdca26"
             ],
             [
              1,
              "#f0f921"
             ]
            ],
            "type": "histogram2dcontour"
           }
          ],
          "mesh3d": [
           {
            "colorbar": {
             "outlinewidth": 0,
             "ticks": ""
            },
            "type": "mesh3d"
           }
          ],
          "parcoords": [
           {
            "line": {
             "colorbar": {
              "outlinewidth": 0,
              "ticks": ""
             }
            },
            "type": "parcoords"
           }
          ],
          "pie": [
           {
            "automargin": true,
            "type": "pie"
           }
          ],
          "scatter": [
           {
            "fillpattern": {
             "fillmode": "overlay",
             "size": 10,
             "solidity": 0.2
            },
            "type": "scatter"
           }
          ],
          "scatter3d": [
           {
            "line": {
             "colorbar": {
              "outlinewidth": 0,
              "ticks": ""
             }
            },
            "marker": {
             "colorbar": {
              "outlinewidth": 0,
              "ticks": ""
             }
            },
            "type": "scatter3d"
           }
          ],
          "scattercarpet": [
           {
            "marker": {
             "colorbar": {
              "outlinewidth": 0,
              "ticks": ""
             }
            },
            "type": "scattercarpet"
           }
          ],
          "scattergeo": [
           {
            "marker": {
             "colorbar": {
              "outlinewidth": 0,
              "ticks": ""
             }
            },
            "type": "scattergeo"
           }
          ],
          "scattergl": [
           {
            "marker": {
             "colorbar": {
              "outlinewidth": 0,
              "ticks": ""
             }
            },
            "type": "scattergl"
           }
          ],
          "scattermap": [
           {
            "marker": {
             "colorbar": {
              "outlinewidth": 0,
              "ticks": ""
             }
            },
            "type": "scattermap"
           }
          ],
          "scattermapbox": [
           {
            "marker": {
             "colorbar": {
              "outlinewidth": 0,
              "ticks": ""
             }
            },
            "type": "scattermapbox"
           }
          ],
          "scatterpolar": [
           {
            "marker": {
             "colorbar": {
              "outlinewidth": 0,
              "ticks": ""
             }
            },
            "type": "scatterpolar"
           }
          ],
          "scatterpolargl": [
           {
            "marker": {
             "colorbar": {
              "outlinewidth": 0,
              "ticks": ""
             }
            },
            "type": "scatterpolargl"
           }
          ],
          "scatterternary": [
           {
            "marker": {
             "colorbar": {
              "outlinewidth": 0,
              "ticks": ""
             }
            },
            "type": "scatterternary"
           }
          ],
          "surface": [
           {
            "colorbar": {
             "outlinewidth": 0,
             "ticks": ""
            },
            "colorscale": [
             [
              0,
              "#0d0887"
             ],
             [
              0.1111111111111111,
              "#46039f"
             ],
             [
              0.2222222222222222,
              "#7201a8"
             ],
             [
              0.3333333333333333,
              "#9c179e"
             ],
             [
              0.4444444444444444,
              "#bd3786"
             ],
             [
              0.5555555555555556,
              "#d8576b"
             ],
             [
              0.6666666666666666,
              "#ed7953"
             ],
             [
              0.7777777777777778,
              "#fb9f3a"
             ],
             [
              0.8888888888888888,
              "#fdca26"
             ],
             [
              1,
              "#f0f921"
             ]
            ],
            "type": "surface"
           }
          ],
          "table": [
           {
            "cells": {
             "fill": {
              "color": "#EBF0F8"
             },
             "line": {
              "color": "white"
             }
            },
            "header": {
             "fill": {
              "color": "#C8D4E3"
             },
             "line": {
              "color": "white"
             }
            },
            "type": "table"
           }
          ]
         },
         "layout": {
          "annotationdefaults": {
           "arrowcolor": "#2a3f5f",
           "arrowhead": 0,
           "arrowwidth": 1
          },
          "autotypenumbers": "strict",
          "coloraxis": {
           "colorbar": {
            "outlinewidth": 0,
            "ticks": ""
           }
          },
          "colorscale": {
           "diverging": [
            [
             0,
             "#8e0152"
            ],
            [
             0.1,
             "#c51b7d"
            ],
            [
             0.2,
             "#de77ae"
            ],
            [
             0.3,
             "#f1b6da"
            ],
            [
             0.4,
             "#fde0ef"
            ],
            [
             0.5,
             "#f7f7f7"
            ],
            [
             0.6,
             "#e6f5d0"
            ],
            [
             0.7,
             "#b8e186"
            ],
            [
             0.8,
             "#7fbc41"
            ],
            [
             0.9,
             "#4d9221"
            ],
            [
             1,
             "#276419"
            ]
           ],
           "sequential": [
            [
             0,
             "#0d0887"
            ],
            [
             0.1111111111111111,
             "#46039f"
            ],
            [
             0.2222222222222222,
             "#7201a8"
            ],
            [
             0.3333333333333333,
             "#9c179e"
            ],
            [
             0.4444444444444444,
             "#bd3786"
            ],
            [
             0.5555555555555556,
             "#d8576b"
            ],
            [
             0.6666666666666666,
             "#ed7953"
            ],
            [
             0.7777777777777778,
             "#fb9f3a"
            ],
            [
             0.8888888888888888,
             "#fdca26"
            ],
            [
             1,
             "#f0f921"
            ]
           ],
           "sequentialminus": [
            [
             0,
             "#0d0887"
            ],
            [
             0.1111111111111111,
             "#46039f"
            ],
            [
             0.2222222222222222,
             "#7201a8"
            ],
            [
             0.3333333333333333,
             "#9c179e"
            ],
            [
             0.4444444444444444,
             "#bd3786"
            ],
            [
             0.5555555555555556,
             "#d8576b"
            ],
            [
             0.6666666666666666,
             "#ed7953"
            ],
            [
             0.7777777777777778,
             "#fb9f3a"
            ],
            [
             0.8888888888888888,
             "#fdca26"
            ],
            [
             1,
             "#f0f921"
            ]
           ]
          },
          "colorway": [
           "#636efa",
           "#EF553B",
           "#00cc96",
           "#ab63fa",
           "#FFA15A",
           "#19d3f3",
           "#FF6692",
           "#B6E880",
           "#FF97FF",
           "#FECB52"
          ],
          "font": {
           "color": "#2a3f5f"
          },
          "geo": {
           "bgcolor": "white",
           "lakecolor": "white",
           "landcolor": "#E5ECF6",
           "showlakes": true,
           "showland": true,
           "subunitcolor": "white"
          },
          "hoverlabel": {
           "align": "left"
          },
          "hovermode": "closest",
          "mapbox": {
           "style": "light"
          },
          "paper_bgcolor": "white",
          "plot_bgcolor": "#E5ECF6",
          "polar": {
           "angularaxis": {
            "gridcolor": "white",
            "linecolor": "white",
            "ticks": ""
           },
           "bgcolor": "#E5ECF6",
           "radialaxis": {
            "gridcolor": "white",
            "linecolor": "white",
            "ticks": ""
           }
          },
          "scene": {
           "xaxis": {
            "backgroundcolor": "#E5ECF6",
            "gridcolor": "white",
            "gridwidth": 2,
            "linecolor": "white",
            "showbackground": true,
            "ticks": "",
            "zerolinecolor": "white"
           },
           "yaxis": {
            "backgroundcolor": "#E5ECF6",
            "gridcolor": "white",
            "gridwidth": 2,
            "linecolor": "white",
            "showbackground": true,
            "ticks": "",
            "zerolinecolor": "white"
           },
           "zaxis": {
            "backgroundcolor": "#E5ECF6",
            "gridcolor": "white",
            "gridwidth": 2,
            "linecolor": "white",
            "showbackground": true,
            "ticks": "",
            "zerolinecolor": "white"
           }
          },
          "shapedefaults": {
           "line": {
            "color": "#2a3f5f"
           }
          },
          "ternary": {
           "aaxis": {
            "gridcolor": "white",
            "linecolor": "white",
            "ticks": ""
           },
           "baxis": {
            "gridcolor": "white",
            "linecolor": "white",
            "ticks": ""
           },
           "bgcolor": "#E5ECF6",
           "caxis": {
            "gridcolor": "white",
            "linecolor": "white",
            "ticks": ""
           }
          },
          "title": {
           "x": 0.05
          },
          "xaxis": {
           "automargin": true,
           "gridcolor": "white",
           "linecolor": "white",
           "ticks": "",
           "title": {
            "standoff": 15
           },
           "zerolinecolor": "white",
           "zerolinewidth": 2
          },
          "yaxis": {
           "automargin": true,
           "gridcolor": "white",
           "linecolor": "white",
           "ticks": "",
           "title": {
            "standoff": 15
           },
           "zerolinecolor": "white",
           "zerolinewidth": 2
          }
         }
        },
        "title": {
         "text": "Ingreso Normalizado (x100) vs Educación por País"
        },
        "xaxis": {
         "anchor": "y",
         "domain": [
          0,
          1
         ],
         "tickangle": -45,
         "title": {
          "text": "País"
         }
        },
        "yaxis": {
         "anchor": "x",
         "domain": [
          0,
          1
         ],
         "title": {
          "text": "Valor Observado (0–100)"
         }
        }
       }
      }
     },
     "metadata": {},
     "output_type": "display_data"
    }
   ],
   "source": [
    "\n",
    "# Cargar ingresos\n",
    "ingreso_df = pd.read_csv(\"ingresos.csv\")\n",
    "ingreso_df = ingreso_df[[\"Country\", \"OBS_VALUE\"]].dropna()\n",
    "\n",
    "# Normalizar y escalar a 0–100\n",
    "min_val = ingreso_df[\"OBS_VALUE\"].min()\n",
    "max_val = ingreso_df[\"OBS_VALUE\"].max()\n",
    "ingreso_df[\"Ingreso Normalizado\"] = ((ingreso_df[\"OBS_VALUE\"] - min_val) / (max_val - min_val)) * 100\n",
    "ingreso_df = ingreso_df[[\"Country\", \"Ingreso Normalizado\"]]\n",
    "\n",
    "# Cargar educación\n",
    "educacion_df = pd.read_csv(\"Educacion.csv\")\n",
    "educacion_df = educacion_df[educacion_df[\"Indicator\"] == \"Educational attainment\"]\n",
    "educacion_df = educacion_df[[\"Country\", \"OBS_VALUE\"]].dropna()\n",
    "educacion_df = educacion_df.rename(columns={\"OBS_VALUE\": \"Educación\"})\n",
    "\n",
    "# Unir por país\n",
    "combinado_df = pd.merge(ingreso_df, educacion_df, on=\"Country\", how=\"inner\")\n",
    "\n",
    "# Convertir a formato largo\n",
    "long_df = combinado_df.melt(id_vars=\"Country\",\n",
    "                             value_vars=[\"Ingreso Normalizado\", \"Educación\"],\n",
    "                             var_name=\"Indicador\",\n",
    "                             value_name=\"Valor Observado\")\n",
    "\n",
    "# Gráfico de líneas\n",
    "fig = px.line(long_df,\n",
    "              x=\"Country\",\n",
    "              y=\"Valor Observado\",\n",
    "              color=\"Indicador\",\n",
    "              markers=True,\n",
    "              title=\"Ingreso Normalizado (x100) vs Educación por País\")\n",
    "\n",
    "fig.update_layout(\n",
    "    xaxis_title=\"País\",\n",
    "    yaxis_title=\"Valor Observado (0–100)\",\n",
    "    xaxis_tickangle=-45,\n",
    "    legend_title=\"Indicador\"\n",
    ")\n",
    "\n",
    "fig.show()"
   ]
  }
 ],
 "metadata": {
  "kernelspec": {
   "display_name": "IDM",
   "language": "python",
   "name": "python3"
  },
  "language_info": {
   "codemirror_mode": {
    "name": "ipython",
    "version": 3
   },
   "file_extension": ".py",
   "mimetype": "text/x-python",
   "name": "python",
   "nbconvert_exporter": "python",
   "pygments_lexer": "ipython3",
   "version": "3.12.9"
  }
 },
 "nbformat": 4,
 "nbformat_minor": 5
}
